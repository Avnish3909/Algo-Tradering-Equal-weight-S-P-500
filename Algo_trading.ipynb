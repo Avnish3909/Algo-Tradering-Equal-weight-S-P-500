{
  "cells": [
    {
      "cell_type": "markdown",
      "metadata": {
        "id": "view-in-github",
        "colab_type": "text"
      },
      "source": [
        "<a href=\"https://colab.research.google.com/github/Avnish3909/Algo-Tradering-Equal-weight-S-P-500/blob/main/Algo_trading.ipynb\" target=\"_parent\"><img src=\"https://colab.research.google.com/assets/colab-badge.svg\" alt=\"Open In Colab\"/></a>"
      ]
    },
    {
      "cell_type": "code",
      "execution_count": null,
      "id": "976b7234-82e6-4c41-8427-120c4b6048b6",
      "metadata": {
        "id": "976b7234-82e6-4c41-8427-120c4b6048b6"
      },
      "outputs": [],
      "source": [
        "import numpy as np\n",
        "import pandas as pd\n",
        "import requests\n",
        "import xlsxwriter\n",
        "import math\n",
        "import json"
      ]
    },
    {
      "cell_type": "code",
      "execution_count": null,
      "id": "7f40d48b-5e52-405d-9920-32adc5c9682d",
      "metadata": {
        "id": "7f40d48b-5e52-405d-9920-32adc5c9682d"
      },
      "outputs": [],
      "source": [
        "import os\n",
        "\n",
        "stocks = pd.read_csv(\"sp_500_stocks.csv\")"
      ]
    },
    {
      "cell_type": "code",
      "execution_count": null,
      "id": "6d1f0dee-af98-4b9d-85e3-fa55bb365728",
      "metadata": {
        "id": "6d1f0dee-af98-4b9d-85e3-fa55bb365728",
        "outputId": "bde0389e-2c9c-42a9-f956-868073825dd6"
      },
      "outputs": [
        {
          "data": {
            "text/html": [
              "<div>\n",
              "<style scoped>\n",
              "    .dataframe tbody tr th:only-of-type {\n",
              "        vertical-align: middle;\n",
              "    }\n",
              "\n",
              "    .dataframe tbody tr th {\n",
              "        vertical-align: top;\n",
              "    }\n",
              "\n",
              "    .dataframe thead th {\n",
              "        text-align: right;\n",
              "    }\n",
              "</style>\n",
              "<table border=\"1\" class=\"dataframe\">\n",
              "  <thead>\n",
              "    <tr style=\"text-align: right;\">\n",
              "      <th></th>\n",
              "      <th>Ticker</th>\n",
              "    </tr>\n",
              "  </thead>\n",
              "  <tbody>\n",
              "    <tr>\n",
              "      <th>0</th>\n",
              "      <td>A</td>\n",
              "    </tr>\n",
              "    <tr>\n",
              "      <th>1</th>\n",
              "      <td>AAL</td>\n",
              "    </tr>\n",
              "    <tr>\n",
              "      <th>2</th>\n",
              "      <td>AAP</td>\n",
              "    </tr>\n",
              "    <tr>\n",
              "      <th>3</th>\n",
              "      <td>AAPL</td>\n",
              "    </tr>\n",
              "    <tr>\n",
              "      <th>4</th>\n",
              "      <td>ABBV</td>\n",
              "    </tr>\n",
              "    <tr>\n",
              "      <th>...</th>\n",
              "      <td>...</td>\n",
              "    </tr>\n",
              "    <tr>\n",
              "      <th>500</th>\n",
              "      <td>YUM</td>\n",
              "    </tr>\n",
              "    <tr>\n",
              "      <th>501</th>\n",
              "      <td>ZBH</td>\n",
              "    </tr>\n",
              "    <tr>\n",
              "      <th>502</th>\n",
              "      <td>ZBRA</td>\n",
              "    </tr>\n",
              "    <tr>\n",
              "      <th>503</th>\n",
              "      <td>ZION</td>\n",
              "    </tr>\n",
              "    <tr>\n",
              "      <th>504</th>\n",
              "      <td>ZTS</td>\n",
              "    </tr>\n",
              "  </tbody>\n",
              "</table>\n",
              "<p>505 rows × 1 columns</p>\n",
              "</div>"
            ],
            "text/plain": [
              "    Ticker\n",
              "0        A\n",
              "1      AAL\n",
              "2      AAP\n",
              "3     AAPL\n",
              "4     ABBV\n",
              "..     ...\n",
              "500    YUM\n",
              "501    ZBH\n",
              "502   ZBRA\n",
              "503   ZION\n",
              "504    ZTS\n",
              "\n",
              "[505 rows x 1 columns]"
            ]
          },
          "execution_count": 3,
          "metadata": {},
          "output_type": "execute_result"
        }
      ],
      "source": [
        "stocks"
      ]
    },
    {
      "cell_type": "code",
      "execution_count": null,
      "id": "3a32be14-6950-4701-94cc-4a2160879fb5",
      "metadata": {
        "id": "3a32be14-6950-4701-94cc-4a2160879fb5",
        "outputId": "f59a01f5-96ab-4f23-c3bc-1dc1689b251d"
      },
      "outputs": [
        {
          "name": "stdout",
          "output_type": "stream",
          "text": [
            "https://www.alphavantage.co/query?function=GLOBAL_QUOTE&symbol=AAPL&apikey=SSZPRFBAD7SK0S8H\n",
            "{'Global Quote': {'01. symbol': 'AAPL', '02. open': '185.0100', '03. high': '185.0400', '04. low': '182.2300', '05. price': '182.5200', '06. volume': '45119677', '07. latest trading day': '2024-02-23', '08. previous close': '184.3700', '09. change': '-1.8500', '10. change percent': '-1.0034%'}}\n"
          ]
        }
      ],
      "source": [
        "symbol = \"AAPL\"\n",
        "api_url = f\"https://www.alphavantage.co/query?function=GLOBAL_QUOTE&symbol={symbol}&apikey=SSZPRFBAD7SK0S8H\"\n",
        "print(api_url)\n",
        "data = requests.get(api_url).json()\n",
        "print(data)"
      ]
    },
    {
      "cell_type": "code",
      "execution_count": null,
      "id": "43a0a766-4727-4ed8-a899-cf10e4dc7f5f",
      "metadata": {
        "id": "43a0a766-4727-4ed8-a899-cf10e4dc7f5f",
        "outputId": "713af5da-a8b6-413e-8cc5-a0b752ad0376"
      },
      "outputs": [
        {
          "name": "stdout",
          "output_type": "stream",
          "text": [
            "182.5200\n",
            "45119677\n"
          ]
        }
      ],
      "source": [
        "price = data[\"Global Quote\"][\"05. price\"]\n",
        "marketcap = data[\"Global Quote\"][\"06. volume\"]\n",
        "print(price)\n",
        "print(marketcap)"
      ]
    },
    {
      "cell_type": "code",
      "execution_count": null,
      "id": "b46d1236-5a62-448c-b660-462dc3cf4d27",
      "metadata": {
        "id": "b46d1236-5a62-448c-b660-462dc3cf4d27"
      },
      "outputs": [],
      "source": [
        "myColumns = [\n",
        "    \"Ticker\",\n",
        "    \"Stock Price\",\n",
        "    \"Market Capitalization\",\n",
        "    \"Number of Shares to Buy\",\n",
        "]"
      ]
    },
    {
      "cell_type": "code",
      "execution_count": null,
      "id": "a9787493-6d4e-412a-b94a-ccc4a3087a34",
      "metadata": {
        "id": "a9787493-6d4e-412a-b94a-ccc4a3087a34"
      },
      "outputs": [],
      "source": [
        "finalDataFrame = pd.DataFrame(columns=myColumns)"
      ]
    },
    {
      "cell_type": "code",
      "execution_count": null,
      "id": "91b9e05a-52de-45ae-87ca-af6e9bc31934",
      "metadata": {
        "id": "91b9e05a-52de-45ae-87ca-af6e9bc31934"
      },
      "outputs": [],
      "source": [
        "seriesData = pd.Series([symbol, price, marketcap, \"N/A\"], index=myColumns)\n",
        "seriesDataFrame = pd.DataFrame([seriesData], columns=myColumns)\n"
      ]
    },
    {
      "cell_type": "code",
      "execution_count": null,
      "id": "9cf3c68b-d8a3-4a90-9079-1db3b231e5b0",
      "metadata": {
        "id": "9cf3c68b-d8a3-4a90-9079-1db3b231e5b0",
        "outputId": "301f2228-acbd-4181-a273-def1856bbd2b"
      },
      "outputs": [
        {
          "data": {
            "text/html": [
              "<div>\n",
              "<style scoped>\n",
              "    .dataframe tbody tr th:only-of-type {\n",
              "        vertical-align: middle;\n",
              "    }\n",
              "\n",
              "    .dataframe tbody tr th {\n",
              "        vertical-align: top;\n",
              "    }\n",
              "\n",
              "    .dataframe thead th {\n",
              "        text-align: right;\n",
              "    }\n",
              "</style>\n",
              "<table border=\"1\" class=\"dataframe\">\n",
              "  <thead>\n",
              "    <tr style=\"text-align: right;\">\n",
              "      <th></th>\n",
              "      <th>Ticker</th>\n",
              "      <th>Stock Price</th>\n",
              "      <th>Market Capitalization</th>\n",
              "      <th>Number of Shares to Buy</th>\n",
              "    </tr>\n",
              "  </thead>\n",
              "  <tbody>\n",
              "    <tr>\n",
              "      <th>0</th>\n",
              "      <td>AAPL</td>\n",
              "      <td>182.5200</td>\n",
              "      <td>45119677</td>\n",
              "      <td>N/A</td>\n",
              "    </tr>\n",
              "    <tr>\n",
              "      <th>1</th>\n",
              "      <td>AAPL</td>\n",
              "      <td>182.5200</td>\n",
              "      <td>45119677</td>\n",
              "      <td>N/A</td>\n",
              "    </tr>\n",
              "  </tbody>\n",
              "</table>\n",
              "</div>"
            ],
            "text/plain": [
              "  Ticker Stock Price Market Capitalization Number of Shares to Buy\n",
              "0   AAPL    182.5200              45119677                     N/A\n",
              "1   AAPL    182.5200              45119677                     N/A"
            ]
          },
          "execution_count": 30,
          "metadata": {},
          "output_type": "execute_result"
        }
      ],
      "source": [
        "finalDataFrame = pd.concat([finalDataFrame, seriesDataFrame], ignore_index=True)\n",
        "\n",
        "finalDataFrame"
      ]
    },
    {
      "cell_type": "code",
      "execution_count": null,
      "id": "0efd5204-0c36-453c-9a43-7425dc47b494",
      "metadata": {
        "id": "0efd5204-0c36-453c-9a43-7425dc47b494",
        "outputId": "ce48a579-2f01-42ed-a977-1bde438f7746"
      },
      "outputs": [
        {
          "data": {
            "text/html": [
              "<div>\n",
              "<style scoped>\n",
              "    .dataframe tbody tr th:only-of-type {\n",
              "        vertical-align: middle;\n",
              "    }\n",
              "\n",
              "    .dataframe tbody tr th {\n",
              "        vertical-align: top;\n",
              "    }\n",
              "\n",
              "    .dataframe thead th {\n",
              "        text-align: right;\n",
              "    }\n",
              "</style>\n",
              "<table border=\"1\" class=\"dataframe\">\n",
              "  <thead>\n",
              "    <tr style=\"text-align: right;\">\n",
              "      <th></th>\n",
              "      <th>Ticker</th>\n",
              "    </tr>\n",
              "  </thead>\n",
              "  <tbody>\n",
              "    <tr>\n",
              "      <th>0</th>\n",
              "      <td>A</td>\n",
              "    </tr>\n",
              "    <tr>\n",
              "      <th>1</th>\n",
              "      <td>AAL</td>\n",
              "    </tr>\n",
              "    <tr>\n",
              "      <th>2</th>\n",
              "      <td>AAP</td>\n",
              "    </tr>\n",
              "    <tr>\n",
              "      <th>3</th>\n",
              "      <td>AAPL</td>\n",
              "    </tr>\n",
              "    <tr>\n",
              "      <th>4</th>\n",
              "      <td>ABBV</td>\n",
              "    </tr>\n",
              "    <tr>\n",
              "      <th>5</th>\n",
              "      <td>ABC</td>\n",
              "    </tr>\n",
              "    <tr>\n",
              "      <th>6</th>\n",
              "      <td>ABMD</td>\n",
              "    </tr>\n",
              "    <tr>\n",
              "      <th>7</th>\n",
              "      <td>ABT</td>\n",
              "    </tr>\n",
              "    <tr>\n",
              "      <th>8</th>\n",
              "      <td>ACN</td>\n",
              "    </tr>\n",
              "    <tr>\n",
              "      <th>9</th>\n",
              "      <td>ADBE</td>\n",
              "    </tr>\n",
              "  </tbody>\n",
              "</table>\n",
              "</div>"
            ],
            "text/plain": [
              "  Ticker\n",
              "0      A\n",
              "1    AAL\n",
              "2    AAP\n",
              "3   AAPL\n",
              "4   ABBV\n",
              "5    ABC\n",
              "6   ABMD\n",
              "7    ABT\n",
              "8    ACN\n",
              "9   ADBE"
            ]
          },
          "execution_count": 26,
          "metadata": {},
          "output_type": "execute_result"
        }
      ],
      "source": [
        "stocks[:10]"
      ]
    },
    {
      "cell_type": "code",
      "execution_count": null,
      "id": "c36e9b01-e3fa-4c36-9f84-c9982bb50bbb",
      "metadata": {
        "id": "c36e9b01-e3fa-4c36-9f84-c9982bb50bbb",
        "outputId": "013c022a-dac7-4410-89fe-2286eac83a9e"
      },
      "outputs": [
        {
          "name": "stdout",
          "output_type": "stream",
          "text": [
            "https://www.alphavantage.co/query?function=GLOBAL_QUOTE&symbol=A&apikey=SSZPRFBAD7SK0S8H\n"
          ]
        },
        {
          "ename": "KeyError",
          "evalue": "'Global Quote'",
          "output_type": "error",
          "traceback": [
            "\u001b[1;31m---------------------------------------------------------------------------\u001b[0m",
            "\u001b[1;31mKeyError\u001b[0m                                  Traceback (most recent call last)",
            "Cell \u001b[1;32mIn[35], line 9\u001b[0m\n\u001b[0;32m      6\u001b[0m \u001b[38;5;28mprint\u001b[39m(blockurl)\n\u001b[0;32m      7\u001b[0m blockdata \u001b[38;5;241m=\u001b[39m requests\u001b[38;5;241m.\u001b[39mget(blockurl)\u001b[38;5;241m.\u001b[39mjson()\n\u001b[0;32m      8\u001b[0m temp_df \u001b[38;5;241m=\u001b[39m pd\u001b[38;5;241m.\u001b[39mDataFrame(\n\u001b[1;32m----> 9\u001b[0m     [[x, \u001b[43mblockdata\u001b[49m\u001b[43m[\u001b[49m\u001b[38;5;124;43m\"\u001b[39;49m\u001b[38;5;124;43mGlobal Quote\u001b[39;49m\u001b[38;5;124;43m\"\u001b[39;49m\u001b[43m]\u001b[49m[\u001b[38;5;124m\"\u001b[39m\u001b[38;5;124m05. price\u001b[39m\u001b[38;5;124m\"\u001b[39m], blockdata[\u001b[38;5;124m\"\u001b[39m\u001b[38;5;124mGlobal Quote\u001b[39m\u001b[38;5;124m\"\u001b[39m][\u001b[38;5;124m\"\u001b[39m\u001b[38;5;124m06. volume\u001b[39m\u001b[38;5;124m\"\u001b[39m], \u001b[38;5;124m\"\u001b[39m\u001b[38;5;124mN/A\u001b[39m\u001b[38;5;124m\"\u001b[39m]],\n\u001b[0;32m     10\u001b[0m     columns\u001b[38;5;241m=\u001b[39mmyColumns,\n\u001b[0;32m     11\u001b[0m )\n\u001b[0;32m     12\u001b[0m data_frames\u001b[38;5;241m.\u001b[39mappend(\n\u001b[0;32m     13\u001b[0m     temp_df\n\u001b[0;32m     14\u001b[0m )\n",
            "\u001b[1;31mKeyError\u001b[0m: 'Global Quote'"
          ]
        }
      ],
      "source": [
        "data_frames = []\n",
        "for x in stocks[\"Ticker\"][:100]:\n",
        "    blockurl = (\n",
        "        f\"https://www.alphavantage.co/query?function=GLOBAL_QUOTE&symbol={x}&apikey=SSZPRFBAD7SK0S8H\"\n",
        "    )\n",
        "    print(blockurl)\n",
        "    blockdata = requests.get(blockurl).json()\n",
        "    temp_df = pd.DataFrame(\n",
        "        [[x, blockdata[\"Global Quote\"][\"05. price\"], blockdata[\"Global Quote\"][\"06. volume\"], \"N/A\"]],\n",
        "        columns=myColumns,\n",
        "    )\n",
        "    data_frames.append(\n",
        "        temp_df\n",
        "    )\n",
        ""
      ]
    },
    {
      "cell_type": "code",
      "execution_count": null,
      "id": "f19ee7da-79f0-41b5-aa5b-a2ddd6ae5c05",
      "metadata": {
        "id": "f19ee7da-79f0-41b5-aa5b-a2ddd6ae5c05"
      },
      "outputs": [],
      "source": [
        "finalDataFrame = pd.concat(data_frames, ignore_index=True)\n",
        "finalDataFrame"
      ]
    },
    {
      "cell_type": "code",
      "execution_count": null,
      "id": "fcca7529-d25b-4ad3-8161-6c25d6f8c9ab",
      "metadata": {
        "id": "fcca7529-d25b-4ad3-8161-6c25d6f8c9ab"
      },
      "outputs": [],
      "source": [
        "portfolioSize = input(\"Please Enter The Value OF Your Portfolio:  \")\n",
        "try:\n",
        "    val = float(portfolioSize)\n",
        "except ValueError:\n",
        "    print(\"Input is not a number\")\n",
        "    portfolioSize = input(\"Please Enter The Value OF Your Portfolio again:  \")\n",
        "\n",
        "positionSize = val / len(finalDataFrame.index)\n",
        "for i in range(0, len(finalDataFrame.index)):\n",
        "    finalDataFrame.loc[i, \"Number of Shares to Buy\"] = math.floor(\n",
        "        positionSize / finalDataFrame.loc[i, \"Stock Price\"]\n",
        "    )\n",
        "print(finalDataFrame)\n",
        "\n",
        "writer = pd.ExcelWriter(\"RecommendedTrades.xlsx\", engine=\"xlsxwriter\")\n",
        "finalDataFrame.to_excel(writer, \"RecommendedTrades\", index=False)\n"
      ]
    },
    {
      "cell_type": "code",
      "execution_count": null,
      "id": "0e1aa173-93bb-47ca-85d4-608fffb45944",
      "metadata": {
        "id": "0e1aa173-93bb-47ca-85d4-608fffb45944"
      },
      "outputs": [],
      "source": [
        "import xlsxwriter\n",
        "\n",
        "backgroundColor = \"#0a0a23\"\n",
        "fontColor = \"#00ff00\"\n",
        "\n",
        "string_format = writer.book.add_format(\n",
        "    {\"font_color\": fontColor, \"bg_color\": backgroundColor, \"border\": 1}\n",
        ")\n",
        "dollar_format = writer.book.add_format(\n",
        "    {\n",
        "        \"num_format\": \"$0.00\",\n",
        "        \"font_color\": fontColor,\n",
        "        \"bg_color\": backgroundColor,\n",
        "        \"border\": 1,\n",
        "    }\n",
        ")\n",
        "integer_format = writer.book.add_format(\n",
        "    {\n",
        "        \"num_format\": \"0\",\n",
        "        \"font_color\": fontColor,\n",
        "        \"bg_color\": backgroundColor,\n",
        "        \"border\": 1,\n",
        "    }\n",
        ")\n",
        "\n",
        "\n",
        "columnFormats = {\n",
        "    \"A\": [\"Ticker\", string_format],\n",
        "    \"B\": [\"Stock Price\", dollar_format],\n",
        "    \"C\": [\"Market Capitalization\", dollar_format],\n",
        "    \"D\": [\"Number of Shares to Buy\", integer_format],\n",
        "}\n",
        "for column in columnFormats.keys():\n",
        "    writer.sheets[\"RecommendedTrades\"].set_column(\n",
        "        f\"{column}:{column}\", 20, columnFormats[column][1]\n",
        "    )\n",
        "writer.close()\n",
        "print(finalDataFrame)\n"
      ]
    },
    {
      "cell_type": "code",
      "execution_count": null,
      "id": "6128f5cc-22b3-4ddb-8ae3-8212ec5e2c00",
      "metadata": {
        "id": "6128f5cc-22b3-4ddb-8ae3-8212ec5e2c00"
      },
      "outputs": [],
      "source": []
    }
  ],
  "metadata": {
    "kernelspec": {
      "display_name": "Python 3 (ipykernel)",
      "language": "python",
      "name": "python3"
    },
    "language_info": {
      "codemirror_mode": {
        "name": "ipython",
        "version": 3
      },
      "file_extension": ".py",
      "mimetype": "text/x-python",
      "name": "python",
      "nbconvert_exporter": "python",
      "pygments_lexer": "ipython3",
      "version": "3.10.9"
    },
    "colab": {
      "provenance": [],
      "include_colab_link": true
    }
  },
  "nbformat": 4,
  "nbformat_minor": 5
}